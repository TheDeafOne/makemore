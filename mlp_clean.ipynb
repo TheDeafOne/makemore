{
 "cells": [
  {
   "cell_type": "code",
   "execution_count": 6,
   "metadata": {},
   "outputs": [],
   "source": [
    "import torch\n",
    "import torch.nn.functional as F\n",
    "import matplotlib.pyplot as plt\n",
    "import random\n",
    "\n",
    "%matplotlib inline"
   ]
  },
  {
   "cell_type": "code",
   "execution_count": 2,
   "metadata": {},
   "outputs": [
    {
     "data": {
      "text/plain": [
       "['emma', 'olivia', 'ava', 'isabella', 'sophia', 'charlotte', 'mia', 'amelia']"
      ]
     },
     "execution_count": 2,
     "metadata": {},
     "output_type": "execute_result"
    }
   ],
   "source": [
    "words = open('names.txt', 'r').read().splitlines()\n",
    "words[:8]"
   ]
  },
  {
   "cell_type": "code",
   "execution_count": 3,
   "metadata": {},
   "outputs": [
    {
     "data": {
      "text/plain": [
       "32033"
      ]
     },
     "execution_count": 3,
     "metadata": {},
     "output_type": "execute_result"
    }
   ],
   "source": [
    "len(words)"
   ]
  },
  {
   "cell_type": "code",
   "execution_count": 14,
   "metadata": {},
   "outputs": [
    {
     "name": "stdout",
     "output_type": "stream",
     "text": [
      "{1: 'a', 2: 'b', 3: 'c', 4: 'd', 5: 'e', 6: 'f', 7: 'g', 8: 'h', 9: 'i', 10: 'j', 11: 'k', 12: 'l', 13: 'm', 14: 'n', 15: 'o', 16: 'p', 17: 'q', 18: 'r', 19: 's', 20: 't', 21: 'u', 22: 'v', 23: 'w', 24: 'x', 25: 'y', 26: 'z', 0: '.'}\n",
      "27\n",
      "{'a': 1, 'b': 2, 'c': 3, 'd': 4, 'e': 5, 'f': 6, 'g': 7, 'h': 8, 'i': 9, 'j': 10, 'k': 11, 'l': 12, 'm': 13, 'n': 14, 'o': 15, 'p': 16, 'q': 17, 'r': 18, 's': 19, 't': 20, 'u': 21, 'v': 22, 'w': 23, 'x': 24, 'y': 25, 'z': 26, '.': 0}\n"
     ]
    }
   ],
   "source": [
    "chars = sorted(set(''.join(words)))\n",
    "stoi = {c: i + 1 for i, c in enumerate(chars)}\n",
    "stoi['.'] = 0\n",
    "itos = {i: c for c, i in stoi.items()}\n",
    "vocab_size = len(stoi)\n",
    "print(itos)\n",
    "print(vocab_size)\n",
    "print(stoi)"
   ]
  },
  {
   "cell_type": "code",
   "execution_count": 7,
   "metadata": {},
   "outputs": [
    {
     "name": "stdout",
     "output_type": "stream",
     "text": [
      "torch.Size([182625, 3]) torch.Size([182625])\n",
      "torch.Size([22655, 3]) torch.Size([22655])\n",
      "torch.Size([22866, 3]) torch.Size([22866])\n"
     ]
    }
   ],
   "source": [
    "block_size = 3\n",
    "def build_dataset(words):\n",
    "    X, Y = [], []\n",
    "    for word in words:\n",
    "        context = [0] * block_size\n",
    "        for char in word + '.':\n",
    "            ix = stoi[char]\n",
    "            X.append(context)\n",
    "            Y.append(ix)\n",
    "            context = context[1:] + [ix]\n",
    "    \n",
    "    X = torch.tensor(X)\n",
    "    Y = torch.tensor(Y)\n",
    "    print(X.shape, Y.shape)\n",
    "\n",
    "    return X, Y\n",
    "\n",
    "random.seed(42)\n",
    "random.shuffle(words)\n",
    "n1 = int(0.8 * len(words))\n",
    "n2 = int(0.9 * len(words))\n",
    "Xtr, Ytr = build_dataset(words[:n1])\n",
    "Xva, Yva = build_dataset(words[n1:n2])\n",
    "Xte, Yte = build_dataset(words[n2:])"
   ]
  },
  {
   "cell_type": "code",
   "execution_count": 8,
   "metadata": {},
   "outputs": [
    {
     "name": "stdout",
     "output_type": "stream",
     "text": [
      "11897\n"
     ]
    }
   ],
   "source": [
    "embedding_dimension = 10\n",
    "hidden_dimension = 200\n",
    "\n",
    "g = torch.Generator().manual_seed(42)\n",
    "C = torch.randn((vocab_size, embedding_dimension), generator=g)\n",
    "W1 = torch.randn((block_size * embedding_dimension, hidden_dimension), generator=g)\n",
    "b1 = torch.randn(hidden_dimension, generator=g)\n",
    "W2 = torch.randn((hidden_dimension, vocab_size), generator=g)\n",
    "b2 = torch.randn(vocab_size, generator=g)\n",
    "\n",
    "parameters = [C, W1, b1, W2, b2]\n",
    "print(sum(p.numel() for p in parameters))\n",
    "for p in parameters:\n",
    "    p.requires_grad = True"
   ]
  },
  {
   "cell_type": "code",
   "execution_count": 10,
   "metadata": {},
   "outputs": [
    {
     "name": "stdout",
     "output_type": "stream",
     "text": [
      "iteration 0, loss: 28.385374069213867\n",
      "iteration 1000, loss: 3.9576640129089355\n",
      "iteration 2000, loss: 3.2865092754364014\n",
      "iteration 3000, loss: 3.3476920127868652\n",
      "iteration 4000, loss: 2.872255325317383\n",
      "iteration 5000, loss: 2.592484712600708\n",
      "iteration 6000, loss: 2.8010895252227783\n",
      "iteration 7000, loss: 2.637843608856201\n",
      "iteration 8000, loss: 2.4824838638305664\n",
      "iteration 9000, loss: 2.711625576019287\n",
      "iteration 10000, loss: 2.8554019927978516\n",
      "iteration 11000, loss: 2.6271140575408936\n",
      "iteration 12000, loss: 2.4403536319732666\n",
      "iteration 13000, loss: 2.3063626289367676\n",
      "iteration 14000, loss: 2.592794895172119\n",
      "iteration 15000, loss: 2.0433576107025146\n",
      "iteration 16000, loss: 2.100594997406006\n",
      "iteration 17000, loss: 2.488523244857788\n",
      "iteration 18000, loss: 2.2710230350494385\n",
      "iteration 19000, loss: 2.505108594894409\n",
      "iteration 20000, loss: 2.8137073516845703\n",
      "iteration 21000, loss: 2.370631217956543\n",
      "iteration 22000, loss: 2.275012254714966\n",
      "iteration 23000, loss: 2.5766079425811768\n",
      "iteration 24000, loss: 2.2388319969177246\n",
      "iteration 25000, loss: 1.9925792217254639\n",
      "iteration 26000, loss: 2.1500625610351562\n",
      "iteration 27000, loss: 2.2318084239959717\n",
      "iteration 28000, loss: 2.3483753204345703\n",
      "iteration 29000, loss: 1.9648973941802979\n",
      "iteration 30000, loss: 2.2518832683563232\n",
      "iteration 31000, loss: 2.3825342655181885\n",
      "iteration 32000, loss: 2.6005241870880127\n",
      "iteration 33000, loss: 2.2141497135162354\n",
      "iteration 34000, loss: 3.008470058441162\n",
      "iteration 35000, loss: 2.611356496810913\n",
      "iteration 36000, loss: 2.187161684036255\n",
      "iteration 37000, loss: 2.463413953781128\n",
      "iteration 38000, loss: 2.4882054328918457\n",
      "iteration 39000, loss: 2.3499369621276855\n",
      "iteration 40000, loss: 2.289424180984497\n",
      "iteration 41000, loss: 2.35520601272583\n",
      "iteration 42000, loss: 2.014307975769043\n",
      "iteration 43000, loss: 2.891627073287964\n",
      "iteration 44000, loss: 2.4167544841766357\n",
      "iteration 45000, loss: 2.31069278717041\n",
      "iteration 46000, loss: 2.4116764068603516\n",
      "iteration 47000, loss: 2.098452091217041\n",
      "iteration 48000, loss: 2.4543604850769043\n",
      "iteration 49000, loss: 2.2704238891601562\n",
      "iteration 50000, loss: 1.8930737972259521\n",
      "iteration 51000, loss: 2.090772867202759\n",
      "iteration 52000, loss: 2.1978304386138916\n",
      "iteration 53000, loss: 2.75877046585083\n",
      "iteration 54000, loss: 2.181891441345215\n",
      "iteration 55000, loss: 2.7727723121643066\n",
      "iteration 56000, loss: 2.4306674003601074\n",
      "iteration 57000, loss: 1.8957618474960327\n",
      "iteration 58000, loss: 2.658555746078491\n",
      "iteration 59000, loss: 2.6528682708740234\n",
      "iteration 60000, loss: 2.0989341735839844\n",
      "iteration 61000, loss: 2.567058563232422\n",
      "iteration 62000, loss: 2.3038127422332764\n",
      "iteration 63000, loss: 2.4874465465545654\n",
      "iteration 64000, loss: 2.459834337234497\n",
      "iteration 65000, loss: 2.2484917640686035\n",
      "iteration 66000, loss: 2.4350526332855225\n",
      "iteration 67000, loss: 1.953403353691101\n",
      "iteration 68000, loss: 2.28658127784729\n",
      "iteration 69000, loss: 2.1412577629089355\n",
      "iteration 70000, loss: 2.5821735858917236\n",
      "iteration 71000, loss: 2.255831718444824\n",
      "iteration 72000, loss: 2.140639305114746\n",
      "iteration 73000, loss: 2.184924840927124\n",
      "iteration 74000, loss: 2.1896402835845947\n",
      "iteration 75000, loss: 2.3099536895751953\n",
      "iteration 76000, loss: 2.3306519985198975\n",
      "iteration 77000, loss: 2.4708425998687744\n",
      "iteration 78000, loss: 2.3984198570251465\n",
      "iteration 79000, loss: 2.450249195098877\n",
      "iteration 80000, loss: 2.2710518836975098\n",
      "iteration 81000, loss: 2.3741683959960938\n",
      "iteration 82000, loss: 2.4199249744415283\n",
      "iteration 83000, loss: 2.071147918701172\n",
      "iteration 84000, loss: 2.3862826824188232\n",
      "iteration 85000, loss: 2.263592004776001\n",
      "iteration 86000, loss: 2.6267082691192627\n",
      "iteration 87000, loss: 2.313276767730713\n",
      "iteration 88000, loss: 2.4407427310943604\n",
      "iteration 89000, loss: 2.67232608795166\n",
      "iteration 90000, loss: 1.955976963043213\n",
      "iteration 91000, loss: 2.512690544128418\n",
      "iteration 92000, loss: 2.0529587268829346\n",
      "iteration 93000, loss: 2.1254732608795166\n",
      "iteration 94000, loss: 1.9773499965667725\n",
      "iteration 95000, loss: 2.191809892654419\n",
      "iteration 96000, loss: 2.139160633087158\n",
      "iteration 97000, loss: 2.636411666870117\n",
      "iteration 98000, loss: 1.424258828163147\n",
      "iteration 99000, loss: 2.146470308303833\n",
      "iteration 100000, loss: 2.2855002880096436\n",
      "iteration 101000, loss: 2.397653341293335\n",
      "iteration 102000, loss: 2.2134366035461426\n",
      "iteration 103000, loss: 2.0221097469329834\n",
      "iteration 104000, loss: 2.1850149631500244\n",
      "iteration 105000, loss: 2.2023489475250244\n",
      "iteration 106000, loss: 2.2636051177978516\n",
      "iteration 107000, loss: 1.9798150062561035\n",
      "iteration 108000, loss: 2.139403820037842\n",
      "iteration 109000, loss: 1.8839576244354248\n",
      "iteration 110000, loss: 2.2735812664031982\n",
      "iteration 111000, loss: 1.7876768112182617\n",
      "iteration 112000, loss: 1.6658693552017212\n",
      "iteration 113000, loss: 2.1893563270568848\n",
      "iteration 114000, loss: 2.3325388431549072\n",
      "iteration 115000, loss: 2.286526918411255\n",
      "iteration 116000, loss: 1.9354103803634644\n",
      "iteration 117000, loss: 1.8000215291976929\n",
      "iteration 118000, loss: 2.2178947925567627\n",
      "iteration 119000, loss: 2.3641557693481445\n",
      "iteration 120000, loss: 2.0131008625030518\n",
      "iteration 121000, loss: 1.9343069791793823\n",
      "iteration 122000, loss: 2.396916151046753\n",
      "iteration 123000, loss: 2.1920790672302246\n",
      "iteration 124000, loss: 2.1362199783325195\n",
      "iteration 125000, loss: 2.2078890800476074\n",
      "iteration 126000, loss: 1.7560967206954956\n",
      "iteration 127000, loss: 1.8497360944747925\n",
      "iteration 128000, loss: 1.6779906749725342\n",
      "iteration 129000, loss: 2.172534465789795\n",
      "iteration 130000, loss: 2.1748909950256348\n",
      "iteration 131000, loss: 1.6582375764846802\n",
      "iteration 132000, loss: 2.096508741378784\n",
      "iteration 133000, loss: 2.100416421890259\n",
      "iteration 134000, loss: 2.0996813774108887\n",
      "iteration 135000, loss: 1.847574234008789\n",
      "iteration 136000, loss: 2.319725513458252\n",
      "iteration 137000, loss: 1.9731969833374023\n",
      "iteration 138000, loss: 2.064964771270752\n",
      "iteration 139000, loss: 1.8549659252166748\n",
      "iteration 140000, loss: 1.9711111783981323\n",
      "iteration 141000, loss: 2.2785286903381348\n",
      "iteration 142000, loss: 2.0332436561584473\n",
      "iteration 143000, loss: 1.544130802154541\n",
      "iteration 144000, loss: 2.1129891872406006\n",
      "iteration 145000, loss: 2.534980058670044\n",
      "iteration 146000, loss: 2.3902695178985596\n",
      "iteration 147000, loss: 1.980407953262329\n",
      "iteration 148000, loss: 2.109044313430786\n",
      "iteration 149000, loss: 1.9320464134216309\n",
      "iteration 150000, loss: 2.192967653274536\n",
      "iteration 151000, loss: 1.9056239128112793\n",
      "iteration 152000, loss: 2.1618971824645996\n",
      "iteration 153000, loss: 1.981369972229004\n",
      "iteration 154000, loss: 2.0026650428771973\n",
      "iteration 155000, loss: 2.464247226715088\n",
      "iteration 156000, loss: 2.1449601650238037\n",
      "iteration 157000, loss: 1.7209646701812744\n",
      "iteration 158000, loss: 2.208371877670288\n",
      "iteration 159000, loss: 2.209502935409546\n",
      "iteration 160000, loss: 2.190403938293457\n",
      "iteration 161000, loss: 2.355201244354248\n",
      "iteration 162000, loss: 2.2995917797088623\n",
      "iteration 163000, loss: 2.047943353652954\n",
      "iteration 164000, loss: 2.5234344005584717\n",
      "iteration 165000, loss: 2.262726068496704\n",
      "iteration 166000, loss: 2.2289657592773438\n",
      "iteration 167000, loss: 2.182873249053955\n",
      "iteration 168000, loss: 2.088240623474121\n",
      "iteration 169000, loss: 2.1975510120391846\n",
      "iteration 170000, loss: 1.9412368535995483\n",
      "iteration 171000, loss: 2.0804498195648193\n",
      "iteration 172000, loss: 1.6945101022720337\n",
      "iteration 173000, loss: 1.83603036403656\n",
      "iteration 174000, loss: 2.1257102489471436\n",
      "iteration 175000, loss: 2.0208730697631836\n",
      "iteration 176000, loss: 2.0666260719299316\n",
      "iteration 177000, loss: 2.0438854694366455\n",
      "iteration 178000, loss: 2.009134531021118\n",
      "iteration 179000, loss: 1.863284945487976\n",
      "iteration 180000, loss: 2.3286023139953613\n",
      "iteration 181000, loss: 2.2769110202789307\n",
      "iteration 182000, loss: 2.1295418739318848\n",
      "iteration 183000, loss: 2.110893726348877\n",
      "iteration 184000, loss: 2.0925517082214355\n",
      "iteration 185000, loss: 2.143580675125122\n",
      "iteration 186000, loss: 1.9723188877105713\n",
      "iteration 187000, loss: 2.31426739692688\n",
      "iteration 188000, loss: 2.1434147357940674\n",
      "iteration 189000, loss: 2.3217663764953613\n",
      "iteration 190000, loss: 2.183314085006714\n",
      "iteration 191000, loss: 2.6065690517425537\n",
      "iteration 192000, loss: 1.9889557361602783\n",
      "iteration 193000, loss: 2.256476640701294\n",
      "iteration 194000, loss: 1.7264602184295654\n",
      "iteration 195000, loss: 2.3536946773529053\n",
      "iteration 196000, loss: 2.222487449645996\n",
      "iteration 197000, loss: 2.245476722717285\n",
      "iteration 198000, loss: 2.039048433303833\n",
      "iteration 199000, loss: 2.172665596008301\n"
     ]
    }
   ],
   "source": [
    "epochs = 200000\n",
    "batch_size = 32\n",
    "lossi = []\n",
    "\n",
    "for i in range(epochs):\n",
    "    # minibatch construction\n",
    "    ix = torch.randint(0, Xtr.shape[0], (batch_size,), generator=g)\n",
    "    Xb, Yb = Xtr[ix], Ytr[ix] # batch X, Y\n",
    "\n",
    "    # forward pass\n",
    "    embedding = C[Xb] # embed characters into vectors\n",
    "    embedding_cat = embedding.view(embedding.shape[0], -1) # concat the vectors\n",
    "    hpreact = embedding_cat @ W1 + b1 # hidden layer pre-activation\n",
    "    h = torch.tanh(hpreact) # hidden layer activation\n",
    "    logits = h @ W2 + b2 # logits\n",
    "    loss = F.cross_entropy(logits, Yb) # loss\n",
    "\n",
    "    # backward pass\n",
    "    for p in parameters:\n",
    "        p.grad = None\n",
    "    \n",
    "    loss.backward()\n",
    "\n",
    "    # update\n",
    "    lr = 0.1 if i < 100000 else 0.01\n",
    "    for p in parameters:\n",
    "        p.data -= lr * p.grad\n",
    "    \n",
    "    # track stats\n",
    "    if i % 1000 == 0: # print every once in a while\n",
    "        print(f'iteration {i}, loss: {loss.item()}')\n",
    "    \n",
    "    lossi.append(loss.log10().item())\n"
   ]
  },
  {
   "cell_type": "code",
   "execution_count": 15,
   "metadata": {},
   "outputs": [
    {
     "data": {
      "text/plain": [
       "[<matplotlib.lines.Line2D at 0x1ae2ac18810>]"
      ]
     },
     "execution_count": 15,
     "metadata": {},
     "output_type": "execute_result"
    },
    {
     "data": {
      "image/png": "[encoded data removed]",
      "text/plain": [
       "<Figure size 640x480 with 1 Axes>"
      ]
     },
     "metadata": {},
     "output_type": "display_data"
    }
   ],
   "source": [
    "plt.plot(lossi)"
   ]
  },
  {
   "cell_type": "code",
   "execution_count": 12,
   "metadata": {},
   "outputs": [
    {
     "name": "stdout",
     "output_type": "stream",
     "text": [
      "train 2.1207988262176514\n",
      "val 2.1562674045562744\n"
     ]
    }
   ],
   "source": [
    "@torch.no_grad() # no need to track gradients in the test phase\n",
    "def split_loss(split):\n",
    "    x, y = {\n",
    "        'train': (Xtr, Ytr),\n",
    "        'val': (Xva, Yva),\n",
    "        'test': (Xte, Yte)\n",
    "    }[split]\n",
    "    embedding = C[x] # )N, block_size, embedding_dimension)\n",
    "    embedding_cat = embedding.view(embedding.shape[0], -1) # concat into (N, block_size * embedding_dimension)\n",
    "    h = torch.tanh(embedding_cat @ W1 + b1) # (N, hidden_dimension)\n",
    "    logits = h @ W2 + b2 # (N, vocab_size)\n",
    "    loss = F.cross_entropy(logits, y) \n",
    "    print(split, loss.item())\n",
    "\n",
    "split_loss('train')\n",
    "split_loss('val')"
   ]
  },
  {
   "cell_type": "code",
   "execution_count": 17,
   "metadata": {},
   "outputs": [
    {
     "name": "stdout",
     "output_type": "stream",
     "text": [
      "mora.\n",
      "mayah.\n",
      "see.\n",
      "medhayla.\n",
      "remmadiendraj.\n",
      "cadered.\n",
      "elin.\n",
      "shy.\n",
      "jen.\n",
      "eden.\n",
      "estanaraelyn.\n",
      "malaia.\n",
      "nyshubergiaghiel.\n",
      "janie.\n",
      "jeyvonnie.\n",
      "casuna.\n",
      "ted.\n",
      "ryyah.\n",
      "faeha.\n",
      "kayjahshouda.\n"
     ]
    }
   ],
   "source": [
    "# sample from the model\n",
    "g = torch.Generator().manual_seed(2147483647 + 10)\n",
    "\n",
    "for _ in range(20):\n",
    "    \n",
    "    out = []\n",
    "    context = [0] * block_size # initialize with all ...\n",
    "    while True:\n",
    "      emb = C[torch.tensor([context])] # (1,block_size,d)\n",
    "      h = torch.tanh(emb.view(1, -1) @ W1 + b1)\n",
    "      logits = h @ W2 + b2\n",
    "      probs = F.softmax(logits, dim=1)\n",
    "      ix = torch.multinomial(probs, num_samples=1, generator=g).item()\n",
    "      context = context[1:] + [ix]\n",
    "      out.append(ix)\n",
    "      if ix == 0:\n",
    "        break\n",
    "    \n",
    "    print(''.join(itos[i] for i in out))"
   ]
  },
  {
   "cell_type": "code",
   "execution_count": null,
   "metadata": {},
   "outputs": [],
   "source": []
  }
 ],
 "metadata": {
  "kernelspec": {
   "display_name": "Python 3",
   "language": "python",
   "name": "python3"
  },
  "language_info": {
   "codemirror_mode": {
    "name": "ipython",
    "version": 3
   },
   "file_extension": ".py",
   "mimetype": "text/x-python",
   "name": "python",
   "nbconvert_exporter": "python",
   "pygments_lexer": "ipython3",
   "version": "3.11.0"
  }
 },
 "nbformat": 4,
 "nbformat_minor": 2
}
