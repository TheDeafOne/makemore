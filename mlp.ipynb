{
 "cells": [
  {
   "cell_type": "code",
   "execution_count": 4,
   "metadata": {},
   "outputs": [],
   "source": [
    "import torch\n",
    "import torch.nn.functional as F\n",
    "import matplotlib.pyplot as plt\n",
    "%matplotlib inline"
   ]
  },
  {
   "cell_type": "code",
   "execution_count": 5,
   "metadata": {},
   "outputs": [
    {
     "data": {
      "text/plain": [
       "32033"
      ]
     },
     "execution_count": 5,
     "metadata": {},
     "output_type": "execute_result"
    }
   ],
   "source": [
    "words = open('names.txt', 'r').read().splitlines()\n",
    "len(words)"
   ]
  },
  {
   "cell_type": "code",
   "execution_count": 6,
   "metadata": {},
   "outputs": [
    {
     "name": "stdout",
     "output_type": "stream",
     "text": [
      "{'a': 1, 'b': 2, 'c': 3, 'd': 4, 'e': 5, 'f': 6, 'g': 7, 'h': 8, 'i': 9, 'j': 10, 'k': 11, 'l': 12, 'm': 13, 'n': 14, 'o': 15, 'p': 16, 'q': 17, 'r': 18, 's': 19, 't': 20, 'u': 21, 'v': 22, 'w': 23, 'x': 24, 'y': 25, 'z': 26, '.': 0}\n"
     ]
    }
   ],
   "source": [
    "chars = sorted(list(set(''.join(words))))\n",
    "stoi = {s:i + 1 for i, s in enumerate(chars)}\n",
    "stoi['.'] = 0\n",
    "itos = {i:s for s, i in stoi.items()}\n",
    "print(stoi)"
   ]
  },
  {
   "cell_type": "code",
   "execution_count": 49,
   "metadata": {},
   "outputs": [],
   "source": [
    "# build the dataset\n",
    "block_size = 3 # context length of how many characters we take to predict the next one\n",
    "X, Y = [], []\n",
    "for w in words:\n",
    "    context = [0] * block_size\n",
    "    for ch in w + '.':\n",
    "        ix = stoi[ch]\n",
    "        X.append(context)\n",
    "        Y.append(ix)\n",
    "        context = context[1:] + [ix]\n",
    "X = torch.tensor(X)\n",
    "Y = torch.tensor(Y)"
   ]
  },
  {
   "cell_type": "code",
   "execution_count": 14,
   "metadata": {},
   "outputs": [
    {
     "data": {
      "text/plain": [
       "(tensor([[ 0,  0,  0],\n",
       "         [ 0,  0,  5],\n",
       "         [ 0,  5, 13],\n",
       "         [ 5, 13, 13],\n",
       "         [13, 13,  1],\n",
       "         [ 0,  0,  0],\n",
       "         [ 0,  0, 15],\n",
       "         [ 0, 15, 12],\n",
       "         [15, 12,  9],\n",
       "         [12,  9, 22],\n",
       "         [ 9, 22,  9],\n",
       "         [22,  9,  1],\n",
       "         [ 0,  0,  0],\n",
       "         [ 0,  0,  1],\n",
       "         [ 0,  1, 22],\n",
       "         [ 1, 22,  1],\n",
       "         [ 0,  0,  0],\n",
       "         [ 0,  0,  9],\n",
       "         [ 0,  9, 19],\n",
       "         [ 9, 19,  1],\n",
       "         [19,  1,  2],\n",
       "         [ 1,  2,  5],\n",
       "         [ 2,  5, 12],\n",
       "         [ 5, 12, 12],\n",
       "         [12, 12,  1],\n",
       "         [ 0,  0,  0],\n",
       "         [ 0,  0, 19],\n",
       "         [ 0, 19, 15],\n",
       "         [19, 15, 16],\n",
       "         [15, 16,  8],\n",
       "         [16,  8,  9],\n",
       "         [ 8,  9,  1]]),\n",
       " tensor([ 5, 13, 13,  1,  0, 15, 12,  9, 22,  9,  1,  0,  1, 22,  1,  0,  9, 19,\n",
       "          1,  2,  5, 12, 12,  1,  0, 19, 15, 16,  8,  9,  1,  0]))"
      ]
     },
     "execution_count": 14,
     "metadata": {},
     "output_type": "execute_result"
    }
   ],
   "source": [
    "X, Y"
   ]
  },
  {
   "cell_type": "code",
   "execution_count": 8,
   "metadata": {},
   "outputs": [
    {
     "data": {
      "text/plain": [
       "(torch.Size([32, 3]), torch.int64, torch.Size([32]), torch.int64)"
      ]
     },
     "execution_count": 8,
     "metadata": {},
     "output_type": "execute_result"
    }
   ],
   "source": [
    "X.shape, X.dtype, Y.shape, Y.dtype"
   ]
  },
  {
   "cell_type": "code",
   "execution_count": 110,
   "metadata": {},
   "outputs": [],
   "source": [
    "def build_dataset(words):\n",
    "    block_size = 3\n",
    "    X, Y = [], []\n",
    "    for w in words:\n",
    "        context = [0] * block_size\n",
    "        for ch in w + '.':\n",
    "            ix = stoi[ch]\n",
    "            X.append(context)\n",
    "            Y.append(ix)\n",
    "            context = context[1:] + [ix]\n",
    "    X = torch.tensor(X)\n",
    "    Y = torch.tensor(Y)\n",
    "    return X, Y\n",
    "\n",
    "import random\n",
    "random.seed(42)\n",
    "random.shuffle(words)\n",
    "n1 = int(0.8 * len(words))\n",
    "n2 = int(0.9 * len(words))\n",
    "\n",
    "Xtr, Ytr = build_dataset(words[:n1])\n",
    "Xva, Yva = build_dataset(words[n1:n2])\n",
    "Xte, Yte = build_dataset(words[n2:])"
   ]
  },
  {
   "cell_type": "code",
   "execution_count": 9,
   "metadata": {},
   "outputs": [],
   "source": [
    "# embedding possible values into a 2dimensional space\n",
    "C = torch.randn((27, 2))"
   ]
  },
  {
   "cell_type": "code",
   "execution_count": 10,
   "metadata": {},
   "outputs": [
    {
     "data": {
      "text/plain": [
       "torch.Size([32, 3, 2])"
      ]
     },
     "execution_count": 10,
     "metadata": {},
     "output_type": "execute_result"
    }
   ],
   "source": [
    "emb = C[X]\n",
    "emb.shape"
   ]
  },
  {
   "cell_type": "code",
   "execution_count": 23,
   "metadata": {},
   "outputs": [],
   "source": [
    "# num inputs = num embeddings * dimension of embedding, so 3 * 2 = 6, num neurons is variable, in this case 100\n",
    "num_neurons = 100\n",
    "w1 = torch.randn((6, num_neurons)) \n",
    "b1 = torch.randn(num_neurons)"
   ]
  },
  {
   "cell_type": "code",
   "execution_count": 12,
   "metadata": {},
   "outputs": [
    {
     "data": {
      "text/plain": [
       "torch.Size([32, 2])"
      ]
     },
     "execution_count": 12,
     "metadata": {},
     "output_type": "execute_result"
    }
   ],
   "source": [
    "emb[:, 0, :].shape # gets the 32x2 of just the first character in the context"
   ]
  },
  {
   "cell_type": "code",
   "execution_count": 16,
   "metadata": {},
   "outputs": [
    {
     "data": {
      "text/plain": [
       "torch.Size([32, 6])"
      ]
     },
     "execution_count": 16,
     "metadata": {},
     "output_type": "execute_result"
    }
   ],
   "source": [
    "torch.cat([emb[:, 0, :], emb[:, 1, :], emb[:, 2, :]], 1).shape # concatenates the 32x2 of each character in the context"
   ]
  },
  {
   "cell_type": "code",
   "execution_count": 18,
   "metadata": {},
   "outputs": [
    {
     "data": {
      "text/plain": [
       "tensor([[-0.3925, -0.0328, -0.3925, -0.0328, -0.3925, -0.0328],\n",
       "        [-0.3925, -0.0328, -0.3925, -0.0328,  0.5620,  1.8049],\n",
       "        [-0.3925, -0.0328,  0.5620,  1.8049,  2.0279, -0.0255],\n",
       "        [ 0.5620,  1.8049,  2.0279, -0.0255,  2.0279, -0.0255],\n",
       "        [ 2.0279, -0.0255,  2.0279, -0.0255,  1.1034,  0.0220],\n",
       "        [-0.3925, -0.0328, -0.3925, -0.0328, -0.3925, -0.0328],\n",
       "        [-0.3925, -0.0328, -0.3925, -0.0328, -0.0593, -2.0287],\n",
       "        [-0.3925, -0.0328, -0.0593, -2.0287,  1.2847,  0.3126],\n",
       "        [-0.0593, -2.0287,  1.2847,  0.3126,  1.3365,  0.1396],\n",
       "        [ 1.2847,  0.3126,  1.3365,  0.1396,  1.8225, -0.9827],\n",
       "        [ 1.3365,  0.1396,  1.8225, -0.9827,  1.3365,  0.1396],\n",
       "        [ 1.8225, -0.9827,  1.3365,  0.1396,  1.1034,  0.0220],\n",
       "        [-0.3925, -0.0328, -0.3925, -0.0328, -0.3925, -0.0328],\n",
       "        [-0.3925, -0.0328, -0.3925, -0.0328,  1.1034,  0.0220],\n",
       "        [-0.3925, -0.0328,  1.1034,  0.0220,  1.8225, -0.9827],\n",
       "        [ 1.1034,  0.0220,  1.8225, -0.9827,  1.1034,  0.0220],\n",
       "        [-0.3925, -0.0328, -0.3925, -0.0328, -0.3925, -0.0328],\n",
       "        [-0.3925, -0.0328, -0.3925, -0.0328,  1.3365,  0.1396],\n",
       "        [-0.3925, -0.0328,  1.3365,  0.1396, -2.5739, -1.3357],\n",
       "        [ 1.3365,  0.1396, -2.5739, -1.3357,  1.1034,  0.0220],\n",
       "        [-2.5739, -1.3357,  1.1034,  0.0220, -1.5476, -0.9384],\n",
       "        [ 1.1034,  0.0220, -1.5476, -0.9384,  0.5620,  1.8049],\n",
       "        [-1.5476, -0.9384,  0.5620,  1.8049,  1.2847,  0.3126],\n",
       "        [ 0.5620,  1.8049,  1.2847,  0.3126,  1.2847,  0.3126],\n",
       "        [ 1.2847,  0.3126,  1.2847,  0.3126,  1.1034,  0.0220],\n",
       "        [-0.3925, -0.0328, -0.3925, -0.0328, -0.3925, -0.0328],\n",
       "        [-0.3925, -0.0328, -0.3925, -0.0328, -2.5739, -1.3357],\n",
       "        [-0.3925, -0.0328, -2.5739, -1.3357, -0.0593, -2.0287],\n",
       "        [-2.5739, -1.3357, -0.0593, -2.0287, -1.2424,  0.0286],\n",
       "        [-0.0593, -2.0287, -1.2424,  0.0286,  0.4498,  0.1287],\n",
       "        [-1.2424,  0.0286,  0.4498,  0.1287,  1.3365,  0.1396],\n",
       "        [ 0.4498,  0.1287,  1.3365,  0.1396,  1.1034,  0.0220]])"
      ]
     },
     "execution_count": 18,
     "metadata": {},
     "output_type": "execute_result"
    }
   ],
   "source": [
    "emb.view(32, 6)"
   ]
  },
  {
   "cell_type": "code",
   "execution_count": 20,
   "metadata": {},
   "outputs": [
    {
     "data": {
      "text/plain": [
       "tensor([[-0.8676, -0.8351, -0.9308,  ..., -0.9356,  0.9077,  0.3320],\n",
       "        [-0.7464, -0.7550, -0.0281,  ..., -0.9969,  0.9893,  0.6665],\n",
       "        [ 0.7128, -0.9859, -0.9637,  ..., -0.9866,  0.3468, -0.9625],\n",
       "        ...,\n",
       "        [-0.9874, -0.9747, -0.7960,  ..., -0.8288,  0.9864,  0.0471],\n",
       "        [ 0.9664, -0.5690, -0.7565,  ..., -0.8738,  0.0808, -0.6600],\n",
       "        [ 0.9619, -0.6916, -0.6366,  ..., -0.9389,  0.4939, -0.9810]])"
      ]
     },
     "execution_count": 20,
     "metadata": {},
     "output_type": "execute_result"
    }
   ],
   "source": [
    "h = torch.tanh(emb.view(-1, 6) @ w1 + b1)\n",
    "h"
   ]
  },
  {
   "cell_type": "code",
   "execution_count": 24,
   "metadata": {},
   "outputs": [],
   "source": [
    "w2 = torch.randn((num_neurons, 27))\n",
    "b2 = torch.randn(27)"
   ]
  },
  {
   "cell_type": "code",
   "execution_count": 25,
   "metadata": {},
   "outputs": [],
   "source": [
    "logits = h @ w2 + b2"
   ]
  },
  {
   "cell_type": "code",
   "execution_count": 26,
   "metadata": {},
   "outputs": [],
   "source": [
    "counts = logits.exp()\n",
    "probs = counts / counts.sum(1, keepdim=True)"
   ]
  },
  {
   "cell_type": "code",
   "execution_count": 28,
   "metadata": {},
   "outputs": [
    {
     "data": {
      "text/plain": [
       "torch.Size([32, 27])"
      ]
     },
     "execution_count": 28,
     "metadata": {},
     "output_type": "execute_result"
    }
   ],
   "source": [
    "probs.shape"
   ]
  },
  {
   "cell_type": "code",
   "execution_count": 31,
   "metadata": {},
   "outputs": [],
   "source": [
    "loss = -probs[torch.arange(32), Y].log().mean()"
   ]
  },
  {
   "cell_type": "code",
   "execution_count": 32,
   "metadata": {},
   "outputs": [
    {
     "data": {
      "text/plain": [
       "tensor(16.2689)"
      ]
     },
     "execution_count": 32,
     "metadata": {},
     "output_type": "execute_result"
    }
   ],
   "source": [
    "loss"
   ]
  },
  {
   "cell_type": "code",
   "execution_count": 33,
   "metadata": {},
   "outputs": [],
   "source": [
    "# make this look beautiful"
   ]
  },
  {
   "cell_type": "code",
   "execution_count": 111,
   "metadata": {},
   "outputs": [
    {
     "data": {
      "text/plain": [
       "(torch.Size([182625, 3]), torch.Size([182625]))"
      ]
     },
     "execution_count": 111,
     "metadata": {},
     "output_type": "execute_result"
    }
   ],
   "source": [
    "Xtr.shape, Ytr.shape # dataset"
   ]
  },
  {
   "cell_type": "code",
   "execution_count": 135,
   "metadata": {},
   "outputs": [],
   "source": [
    "g = torch.Generator().manual_seed(2147483647)\n",
    "num_dimensions = 10\n",
    "num_characters = 27\n",
    "num_neurons = 200\n",
    "C = torch.randn((num_characters, num_dimensions), generator=g)\n",
    "w1 = torch.randn((block_size * num_dimensions, num_neurons), generator=g)\n",
    "b1 = torch.randn(num_neurons, generator=g)\n",
    "w2 = torch.randn((num_neurons, num_characters), generator=g)\n",
    "b2 = torch.randn(num_characters, generator=g)\n",
    "parameters = [C, w1, b1, w2, b2]"
   ]
  },
  {
   "cell_type": "code",
   "execution_count": 136,
   "metadata": {},
   "outputs": [
    {
     "data": {
      "text/plain": [
       "11897"
      ]
     },
     "execution_count": 136,
     "metadata": {},
     "output_type": "execute_result"
    }
   ],
   "source": [
    "sum(p.nelement() for p in parameters) # total num of parameters"
   ]
  },
  {
   "cell_type": "code",
   "execution_count": 137,
   "metadata": {},
   "outputs": [],
   "source": [
    "for p in parameters:\n",
    "    p.requires_grad = True"
   ]
  },
  {
   "cell_type": "code",
   "execution_count": 151,
   "metadata": {},
   "outputs": [],
   "source": [
    "epochs = 1\n",
    "lre = torch.linspace(-3, 0, epochs)\n",
    "lrs = 10 ** lre\n",
    "lr = 0.1\n",
    "minibatch_size = 128"
   ]
  },
  {
   "cell_type": "code",
   "execution_count": 141,
   "metadata": {},
   "outputs": [],
   "source": [
    "lri = {}"
   ]
  },
  {
   "cell_type": "code",
   "execution_count": 156,
   "metadata": {},
   "outputs": [
    {
     "name": "stdout",
     "output_type": "stream",
     "text": [
      "tensor([[-7.3456, -0.0780, -1.5172,  ..., -4.0374, -1.9827, -1.4508],\n",
      "        [-3.7813,  5.4997, -2.8544,  ..., -1.4516,  3.8933, -0.5286],\n",
      "        [ 4.4186,  2.6883,  1.6957,  ..., -0.1444,  3.0985,  0.2528],\n",
      "        ...,\n",
      "        [ 6.5694,  4.3394,  4.8994,  ...,  2.4829,  6.7284,  3.2338],\n",
      "        [ 5.1647,  5.5094,  1.4368,  ..., -8.5835,  4.8332, -1.1759],\n",
      "        [-5.1507,  5.2572, -1.4344,  ..., -3.3349,  3.8794, -0.8811]],\n",
      "       grad_fn=<AddBackward0>) torch.Size([128, 27])\n",
      "tensor([20,  5,  0,  9,  1, 14,  9, 16,  1, 19, 18,  1, 15,  1,  0,  5, 12,  0,\n",
      "        16,  9,  1, 20, 11, 25,  7, 14,  0, 19, 11, 24, 19,  9, 26,  1,  4,  4,\n",
      "         0, 14,  5, 21,  1,  0,  1, 12, 15, 12,  9,  8, 12,  1, 18,  1,  5, 12,\n",
      "         5,  0,  9, 20,  6, 19,  1,  4, 13, 14,  1, 19, 14, 18,  5, 18,  5,  0,\n",
      "        26,  0,  0,  9,  0,  5,  1,  0,  7, 20,  0, 19,  0, 14,  9,  9,  9,  9,\n",
      "         0,  0,  0,  1,  1, 11, 19,  8,  0, 19,  3, 18,  0,  1,  9,  5,  1, 12,\n",
      "         5, 14,  5,  7,  5,  9, 18,  3, 25,  1, 13, 17,  3,  5, 19,  5, 25,  3,\n",
      "         1,  8]) torch.int64\n",
      "2.3374249935150146\n"
     ]
    }
   ],
   "source": [
    "for i in range(epochs):\n",
    "    # construct minibatch\n",
    "    ix = torch.randint(0, Xtr.shape[0], (minibatch_size, ))\n",
    "    \n",
    "    # forward pass\n",
    "    emb = C[Xtr[ix]] # (minibatch_size, 3, 2)\n",
    "    h = torch.tanh(emb.view(-1, num_dimensions * block_size) @ w1 + b1) # (minibatch_size, 100)\n",
    "    logits = h @ w2 + b2 # (minibatch_size, 27)\n",
    "    print(logits, logits.shape)\n",
    "    # same as cross entropy\n",
    "    # counts = logits.exp()\n",
    "    # probs = counts / counts.sum(1, keepdim=True)\n",
    "    # loss = -probs[torch.arange(minibatch_size), Y].log().mean()\n",
    "    print(Ytr[ix], Ytr[ix].dtype)\n",
    "    loss = F.cross_entropy(logits, Ytr[ix])\n",
    "    # backward pass\n",
    "    for p in parameters:\n",
    "        p.grad = None\n",
    "    loss.backward()\n",
    "    # update\n",
    "    for p in parameters:\n",
    "        p.data += p.grad * -lr#-lrs[i]\n",
    "    \n",
    "    \n",
    "    lri[lre[i]] = loss.item()\n",
    "print(loss.item())"
   ]
  },
  {
   "cell_type": "code",
   "execution_count": 129,
   "metadata": {},
   "outputs": [
    {
     "data": {
      "text/plain": [
       "[<matplotlib.lines.Line2D at 0x1d7185f09d0>]"
      ]
     },
     "execution_count": 129,
     "metadata": {},
     "output_type": "execute_result"
    },
    {
     "data": {
      "image/png": "[encoded data removed]",
      "text/plain": [
       "<Figure size 640x480 with 1 Axes>"
      ]
     },
     "metadata": {},
     "output_type": "display_data"
    }
   ],
   "source": [
    "plt.plot(range(epochs), list(lri.values()))"
   ]
  },
  {
   "cell_type": "code",
   "execution_count": 99,
   "metadata": {},
   "outputs": [
    {
     "data": {
      "text/plain": [
       "[<matplotlib.lines.Line2D at 0x1d718634e50>]"
      ]
     },
     "execution_count": 99,
     "metadata": {},
     "output_type": "execute_result"
    },
    {
     "data": {
      "image/png": "[encoded data removed]",
      "text/plain": [
       "<Figure size 640x480 with 1 Axes>"
      ]
     },
     "metadata": {},
     "output_type": "display_data"
    }
   ],
   "source": [
    "# plt.plot(lri.keys(), lri.values())"
   ]
  },
  {
   "cell_type": "code",
   "execution_count": 134,
   "metadata": {},
   "outputs": [
    {
     "data": {
      "text/plain": [
       "2.2677841186523438"
      ]
     },
     "execution_count": 134,
     "metadata": {},
     "output_type": "execute_result"
    }
   ],
   "source": [
    "emb = C[Xva]\n",
    "h = torch.tanh(emb.view(-1, 6) @ w1 + b1)\n",
    "logits = h @ w2 + b2\n",
    "loss = F.cross_entropy(logits, Yva)\n",
    "loss.item()"
   ]
  },
  {
   "cell_type": "code",
   "execution_count": 149,
   "metadata": {},
   "outputs": [],
   "source": [
    "# training split, dev/validation split, test split\n",
    "# 80% train, 10% dev, 10% test\n"
   ]
  },
  {
   "cell_type": "code",
   "execution_count": 157,
   "metadata": {},
   "outputs": [
    {
     "name": "stdout",
     "output_type": "stream",
     "text": [
      "torch.Size([1, 27])\n",
      "torch.Size([1, 27])\n",
      "torch.Size([1, 27])\n",
      "torch.Size([1, 27])\n",
      "torch.Size([1, 27])\n",
      "arie\n",
      "torch.Size([1, 27])\n",
      "torch.Size([1, 27])\n",
      "torch.Size([1, 27])\n",
      "torch.Size([1, 27])\n",
      "torch.Size([1, 27])\n",
      "aria\n",
      "torch.Size([1, 27])\n",
      "torch.Size([1, 27])\n",
      "torch.Size([1, 27])\n",
      "torch.Size([1, 27])\n",
      "iya\n",
      "torch.Size([1, 27])\n",
      "torch.Size([1, 27])\n",
      "torch.Size([1, 27])\n",
      "torch.Size([1, 27])\n",
      "torch.Size([1, 27])\n",
      "arie\n",
      "torch.Size([1, 27])\n",
      "torch.Size([1, 27])\n",
      "torch.Size([1, 27])\n",
      "torch.Size([1, 27])\n",
      "torch.Size([1, 27])\n",
      "arie\n",
      "torch.Size([1, 27])\n",
      "torch.Size([1, 27])\n",
      "torch.Size([1, 27])\n",
      "torch.Size([1, 27])\n",
      "torch.Size([1, 27])\n",
      "arii\n",
      "torch.Size([1, 27])\n",
      "torch.Size([1, 27])\n",
      "torch.Size([1, 27])\n",
      "torch.Size([1, 27])\n",
      "ari\n",
      "torch.Size([1, 27])\n",
      "torch.Size([1, 27])\n",
      "torch.Size([1, 27])\n",
      "torch.Size([1, 27])\n",
      "torch.Size([1, 27])\n",
      "aria\n",
      "torch.Size([1, 27])\n",
      "torch.Size([1, 27])\n",
      "torch.Size([1, 27])\n",
      "torch.Size([1, 27])\n",
      "torch.Size([1, 27])\n",
      "arie\n",
      "torch.Size([1, 27])\n",
      "torch.Size([1, 27])\n",
      "torch.Size([1, 27])\n",
      "torch.Size([1, 27])\n",
      "torch.Size([1, 27])\n",
      "torch.Size([1, 27])\n",
      "torch.Size([1, 27])\n",
      "torch.Size([1, 27])\n",
      "iifanke\n",
      "torch.Size([1, 27])\n",
      "torch.Size([1, 27])\n",
      "torch.Size([1, 27])\n",
      "torch.Size([1, 27])\n",
      "torch.Size([1, 27])\n",
      "ario\n",
      "torch.Size([1, 27])\n",
      "torch.Size([1, 27])\n",
      "torch.Size([1, 27])\n",
      "torch.Size([1, 27])\n",
      "iya\n",
      "torch.Size([1, 27])\n",
      "torch.Size([1, 27])\n",
      "torch.Size([1, 27])\n",
      "torch.Size([1, 27])\n",
      "ari\n",
      "torch.Size([1, 27])\n",
      "torch.Size([1, 27])\n",
      "torch.Size([1, 27])\n",
      "torch.Size([1, 27])\n",
      "torch.Size([1, 27])\n",
      "torch.Size([1, 27])\n",
      "torch.Size([1, 27])\n",
      "torch.Size([1, 27])\n",
      "iifaoke\n",
      "torch.Size([1, 27])\n",
      "torch.Size([1, 27])\n",
      "torch.Size([1, 27])\n",
      "torch.Size([1, 27])\n",
      "torch.Size([1, 27])\n",
      "iifa\n",
      "torch.Size([1, 27])\n",
      "torch.Size([1, 27])\n",
      "torch.Size([1, 27])\n",
      "torch.Size([1, 27])\n",
      "torch.Size([1, 27])\n",
      "uria\n",
      "torch.Size([1, 27])\n",
      "torch.Size([1, 27])\n",
      "torch.Size([1, 27])\n",
      "torch.Size([1, 27])\n",
      "torch.Size([1, 27])\n",
      "aria\n",
      "torch.Size([1, 27])\n",
      "torch.Size([1, 27])\n",
      "torch.Size([1, 27])\n",
      "torch.Size([1, 27])\n",
      "iia\n",
      "torch.Size([1, 27])\n",
      "torch.Size([1, 27])\n",
      "torch.Size([1, 27])\n",
      "torch.Size([1, 27])\n",
      "ari\n",
      "torch.Size([1, 27])\n",
      "torch.Size([1, 27])\n",
      "torch.Size([1, 27])\n",
      "torch.Size([1, 27])\n",
      "torch.Size([1, 27])\n",
      "aria\n"
     ]
    }
   ],
   "source": [
    "for _ in range(20):\n",
    "    out = []\n",
    "    context = [0] * block_size\n",
    "    while True:\n",
    "        emb = C[torch.tensor([context])]\n",
    "        h = torch.tanh(emb.view(1, -1)) @ w1 + b1\n",
    "        logits = h @ w2 + b2\n",
    "        print(logits.shape)\n",
    "        probs = F.softmax(logits, dim=1)\n",
    "        ix = torch.multinomial(probs, num_samples=1, generator=g).item()\n",
    "        context = context[1:] + [ix]\n",
    "        out.append(ix)\n",
    "        if ix == 0:\n",
    "            break\n",
    "    print(''.join([itos[i] for i in out[:-1]]))"
   ]
  },
  {
   "cell_type": "code",
   "execution_count": null,
   "metadata": {},
   "outputs": [],
   "source": []
  },
  {
   "cell_type": "code",
   "execution_count": null,
   "metadata": {},
   "outputs": [],
   "source": []
  }
 ],
 "metadata": {
  "kernelspec": {
   "display_name": "Python 3",
   "language": "python",
   "name": "python3"
  },
  "language_info": {
   "codemirror_mode": {
    "name": "ipython",
    "version": 3
   },
   "file_extension": ".py",
   "mimetype": "text/x-python",
   "name": "python",
   "nbconvert_exporter": "python",
   "pygments_lexer": "ipython3",
   "version": "3.11.0"
  }
 },
 "nbformat": 4,
 "nbformat_minor": 2
}
