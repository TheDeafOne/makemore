{
 "cells": [
  {
   "cell_type": "code",
   "execution_count": 4,
   "metadata": {},
   "outputs": [],
   "source": [
    "import torch\n",
    "import torch.nn.functional as F\n",
    "import matplotlib.pyplot as plt\n",
    "%matplotlib inline"
   ]
  },
  {
   "cell_type": "code",
   "execution_count": 5,
   "metadata": {},
   "outputs": [
    {
     "data": {
      "text/plain": [
       "32033"
      ]
     },
     "execution_count": 5,
     "metadata": {},
     "output_type": "execute_result"
    }
   ],
   "source": [
    "words = open('names.txt', 'r').read().splitlines()\n",
    "len(words)"
   ]
  },
  {
   "cell_type": "code",
   "execution_count": 6,
   "metadata": {},
   "outputs": [
    {
     "name": "stdout",
     "output_type": "stream",
     "text": [
      "{'a': 1, 'b': 2, 'c': 3, 'd': 4, 'e': 5, 'f': 6, 'g': 7, 'h': 8, 'i': 9, 'j': 10, 'k': 11, 'l': 12, 'm': 13, 'n': 14, 'o': 15, 'p': 16, 'q': 17, 'r': 18, 's': 19, 't': 20, 'u': 21, 'v': 22, 'w': 23, 'x': 24, 'y': 25, 'z': 26, '.': 0}\n"
     ]
    }
   ],
   "source": [
    "chars = sorted(list(set(''.join(words))))\n",
    "stoi = {s:i + 1 for i, s in enumerate(chars)}\n",
    "stoi['.'] = 0\n",
    "itos = {i:s for s, i in stoi.items()}\n",
    "print(stoi)"
   ]
  },
  {
   "cell_type": "code",
   "execution_count": 49,
   "metadata": {},
   "outputs": [],
   "source": [
    "# build the dataset\n",
    "block_size = 3 # context length of how many characters we take to predict the next one\n",
    "X, Y = [], []\n",
    "for w in words:\n",
    "    context = [0] * block_size\n",
    "    for ch in w + '.':\n",
    "        ix = stoi[ch]\n",
    "        X.append(context)\n",
    "        Y.append(ix)\n",
    "        context = context[1:] + [ix]\n",
    "X = torch.tensor(X)\n",
    "Y = torch.tensor(Y)"
   ]
  },
  {
   "cell_type": "code",
   "execution_count": 14,
   "metadata": {},
   "outputs": [
    {
     "data": {
      "text/plain": [
       "(tensor([[ 0,  0,  0],\n",
       "         [ 0,  0,  5],\n",
       "         [ 0,  5, 13],\n",
       "         [ 5, 13, 13],\n",
       "         [13, 13,  1],\n",
       "         [ 0,  0,  0],\n",
       "         [ 0,  0, 15],\n",
       "         [ 0, 15, 12],\n",
       "         [15, 12,  9],\n",
       "         [12,  9, 22],\n",
       "         [ 9, 22,  9],\n",
       "         [22,  9,  1],\n",
       "         [ 0,  0,  0],\n",
       "         [ 0,  0,  1],\n",
       "         [ 0,  1, 22],\n",
       "         [ 1, 22,  1],\n",
       "         [ 0,  0,  0],\n",
       "         [ 0,  0,  9],\n",
       "         [ 0,  9, 19],\n",
       "         [ 9, 19,  1],\n",
       "         [19,  1,  2],\n",
       "         [ 1,  2,  5],\n",
       "         [ 2,  5, 12],\n",
       "         [ 5, 12, 12],\n",
       "         [12, 12,  1],\n",
       "         [ 0,  0,  0],\n",
       "         [ 0,  0, 19],\n",
       "         [ 0, 19, 15],\n",
       "         [19, 15, 16],\n",
       "         [15, 16,  8],\n",
       "         [16,  8,  9],\n",
       "         [ 8,  9,  1]]),\n",
       " tensor([ 5, 13, 13,  1,  0, 15, 12,  9, 22,  9,  1,  0,  1, 22,  1,  0,  9, 19,\n",
       "          1,  2,  5, 12, 12,  1,  0, 19, 15, 16,  8,  9,  1,  0]))"
      ]
     },
     "execution_count": 14,
     "metadata": {},
     "output_type": "execute_result"
    }
   ],
   "source": [
    "X, Y"
   ]
  },
  {
   "cell_type": "code",
   "execution_count": 8,
   "metadata": {},
   "outputs": [
    {
     "data": {
      "text/plain": [
       "(torch.Size([32, 3]), torch.int64, torch.Size([32]), torch.int64)"
      ]
     },
     "execution_count": 8,
     "metadata": {},
     "output_type": "execute_result"
    }
   ],
   "source": [
    "X.shape, X.dtype, Y.shape, Y.dtype"
   ]
  },
  {
   "cell_type": "code",
   "execution_count": 9,
   "metadata": {},
   "outputs": [],
   "source": [
    "# embedding possible values into a 2dimensional space\n",
    "C = torch.randn((27, 2))"
   ]
  },
  {
   "cell_type": "code",
   "execution_count": 10,
   "metadata": {},
   "outputs": [
    {
     "data": {
      "text/plain": [
       "torch.Size([32, 3, 2])"
      ]
     },
     "execution_count": 10,
     "metadata": {},
     "output_type": "execute_result"
    }
   ],
   "source": [
    "emb = C[X]\n",
    "emb.shape"
   ]
  },
  {
   "cell_type": "code",
   "execution_count": 23,
   "metadata": {},
   "outputs": [],
   "source": [
    "# num inputs = num embeddings * dimension of embedding, so 3 * 2 = 6, num neurons is variable, in this case 100\n",
    "num_neurons = 100\n",
    "w1 = torch.randn((6, num_neurons)) \n",
    "b1 = torch.randn(num_neurons)"
   ]
  },
  {
   "cell_type": "code",
   "execution_count": 12,
   "metadata": {},
   "outputs": [
    {
     "data": {
      "text/plain": [
       "torch.Size([32, 2])"
      ]
     },
     "execution_count": 12,
     "metadata": {},
     "output_type": "execute_result"
    }
   ],
   "source": [
    "emb[:, 0, :].shape # gets the 32x2 of just the first character in the context"
   ]
  },
  {
   "cell_type": "code",
   "execution_count": 16,
   "metadata": {},
   "outputs": [
    {
     "data": {
      "text/plain": [
       "torch.Size([32, 6])"
      ]
     },
     "execution_count": 16,
     "metadata": {},
     "output_type": "execute_result"
    }
   ],
   "source": [
    "torch.cat([emb[:, 0, :], emb[:, 1, :], emb[:, 2, :]], 1).shape # concatenates the 32x2 of each character in the context"
   ]
  },
  {
   "cell_type": "code",
   "execution_count": 18,
   "metadata": {},
   "outputs": [
    {
     "data": {
      "text/plain": [
       "tensor([[-0.3925, -0.0328, -0.3925, -0.0328, -0.3925, -0.0328],\n",
       "        [-0.3925, -0.0328, -0.3925, -0.0328,  0.5620,  1.8049],\n",
       "        [-0.3925, -0.0328,  0.5620,  1.8049,  2.0279, -0.0255],\n",
       "        [ 0.5620,  1.8049,  2.0279, -0.0255,  2.0279, -0.0255],\n",
       "        [ 2.0279, -0.0255,  2.0279, -0.0255,  1.1034,  0.0220],\n",
       "        [-0.3925, -0.0328, -0.3925, -0.0328, -0.3925, -0.0328],\n",
       "        [-0.3925, -0.0328, -0.3925, -0.0328, -0.0593, -2.0287],\n",
       "        [-0.3925, -0.0328, -0.0593, -2.0287,  1.2847,  0.3126],\n",
       "        [-0.0593, -2.0287,  1.2847,  0.3126,  1.3365,  0.1396],\n",
       "        [ 1.2847,  0.3126,  1.3365,  0.1396,  1.8225, -0.9827],\n",
       "        [ 1.3365,  0.1396,  1.8225, -0.9827,  1.3365,  0.1396],\n",
       "        [ 1.8225, -0.9827,  1.3365,  0.1396,  1.1034,  0.0220],\n",
       "        [-0.3925, -0.0328, -0.3925, -0.0328, -0.3925, -0.0328],\n",
       "        [-0.3925, -0.0328, -0.3925, -0.0328,  1.1034,  0.0220],\n",
       "        [-0.3925, -0.0328,  1.1034,  0.0220,  1.8225, -0.9827],\n",
       "        [ 1.1034,  0.0220,  1.8225, -0.9827,  1.1034,  0.0220],\n",
       "        [-0.3925, -0.0328, -0.3925, -0.0328, -0.3925, -0.0328],\n",
       "        [-0.3925, -0.0328, -0.3925, -0.0328,  1.3365,  0.1396],\n",
       "        [-0.3925, -0.0328,  1.3365,  0.1396, -2.5739, -1.3357],\n",
       "        [ 1.3365,  0.1396, -2.5739, -1.3357,  1.1034,  0.0220],\n",
       "        [-2.5739, -1.3357,  1.1034,  0.0220, -1.5476, -0.9384],\n",
       "        [ 1.1034,  0.0220, -1.5476, -0.9384,  0.5620,  1.8049],\n",
       "        [-1.5476, -0.9384,  0.5620,  1.8049,  1.2847,  0.3126],\n",
       "        [ 0.5620,  1.8049,  1.2847,  0.3126,  1.2847,  0.3126],\n",
       "        [ 1.2847,  0.3126,  1.2847,  0.3126,  1.1034,  0.0220],\n",
       "        [-0.3925, -0.0328, -0.3925, -0.0328, -0.3925, -0.0328],\n",
       "        [-0.3925, -0.0328, -0.3925, -0.0328, -2.5739, -1.3357],\n",
       "        [-0.3925, -0.0328, -2.5739, -1.3357, -0.0593, -2.0287],\n",
       "        [-2.5739, -1.3357, -0.0593, -2.0287, -1.2424,  0.0286],\n",
       "        [-0.0593, -2.0287, -1.2424,  0.0286,  0.4498,  0.1287],\n",
       "        [-1.2424,  0.0286,  0.4498,  0.1287,  1.3365,  0.1396],\n",
       "        [ 0.4498,  0.1287,  1.3365,  0.1396,  1.1034,  0.0220]])"
      ]
     },
     "execution_count": 18,
     "metadata": {},
     "output_type": "execute_result"
    }
   ],
   "source": [
    "emb.view(32, 6)"
   ]
  },
  {
   "cell_type": "code",
   "execution_count": 20,
   "metadata": {},
   "outputs": [
    {
     "data": {
      "text/plain": [
       "tensor([[-0.8676, -0.8351, -0.9308,  ..., -0.9356,  0.9077,  0.3320],\n",
       "        [-0.7464, -0.7550, -0.0281,  ..., -0.9969,  0.9893,  0.6665],\n",
       "        [ 0.7128, -0.9859, -0.9637,  ..., -0.9866,  0.3468, -0.9625],\n",
       "        ...,\n",
       "        [-0.9874, -0.9747, -0.7960,  ..., -0.8288,  0.9864,  0.0471],\n",
       "        [ 0.9664, -0.5690, -0.7565,  ..., -0.8738,  0.0808, -0.6600],\n",
       "        [ 0.9619, -0.6916, -0.6366,  ..., -0.9389,  0.4939, -0.9810]])"
      ]
     },
     "execution_count": 20,
     "metadata": {},
     "output_type": "execute_result"
    }
   ],
   "source": [
    "h = torch.tanh(emb.view(-1, 6) @ w1 + b1)\n",
    "h"
   ]
  },
  {
   "cell_type": "code",
   "execution_count": 24,
   "metadata": {},
   "outputs": [],
   "source": [
    "w2 = torch.randn((num_neurons, 27))\n",
    "b2 = torch.randn(27)"
   ]
  },
  {
   "cell_type": "code",
   "execution_count": 25,
   "metadata": {},
   "outputs": [],
   "source": [
    "logits = h @ w2 + b2"
   ]
  },
  {
   "cell_type": "code",
   "execution_count": 26,
   "metadata": {},
   "outputs": [],
   "source": [
    "counts = logits.exp()\n",
    "probs = counts / counts.sum(1, keepdim=True)"
   ]
  },
  {
   "cell_type": "code",
   "execution_count": 28,
   "metadata": {},
   "outputs": [
    {
     "data": {
      "text/plain": [
       "torch.Size([32, 27])"
      ]
     },
     "execution_count": 28,
     "metadata": {},
     "output_type": "execute_result"
    }
   ],
   "source": [
    "probs.shape"
   ]
  },
  {
   "cell_type": "code",
   "execution_count": 31,
   "metadata": {},
   "outputs": [],
   "source": [
    "loss = -probs[torch.arange(32), Y].log().mean()"
   ]
  },
  {
   "cell_type": "code",
   "execution_count": 32,
   "metadata": {},
   "outputs": [
    {
     "data": {
      "text/plain": [
       "tensor(16.2689)"
      ]
     },
     "execution_count": 32,
     "metadata": {},
     "output_type": "execute_result"
    }
   ],
   "source": [
    "loss"
   ]
  },
  {
   "cell_type": "code",
   "execution_count": 33,
   "metadata": {},
   "outputs": [],
   "source": [
    "# make this look beautiful"
   ]
  },
  {
   "cell_type": "code",
   "execution_count": 50,
   "metadata": {},
   "outputs": [
    {
     "data": {
      "text/plain": [
       "(torch.Size([228146, 3]), torch.Size([228146]))"
      ]
     },
     "execution_count": 50,
     "metadata": {},
     "output_type": "execute_result"
    }
   ],
   "source": [
    "X.shape, Y.shape # dataset"
   ]
  },
  {
   "cell_type": "code",
   "execution_count": 94,
   "metadata": {},
   "outputs": [],
   "source": [
    "g = torch.Generator().manual_seed(2147483647)\n",
    "num_dimensions = 2\n",
    "num_characters = 27\n",
    "C = torch.randn((num_characters, num_dimensions), generator=g)\n",
    "w1 = torch.randn((block_size * num_dimensions, num_neurons), generator=g)\n",
    "b1 = torch.randn(num_neurons, generator=g)\n",
    "w2 = torch.randn((num_neurons, num_characters), generator=g)\n",
    "b2 = torch.randn(num_characters, generator=g)\n",
    "parameters = [C, w1, b1, w2, b2]"
   ]
  },
  {
   "cell_type": "code",
   "execution_count": 95,
   "metadata": {},
   "outputs": [
    {
     "data": {
      "text/plain": [
       "3481"
      ]
     },
     "execution_count": 95,
     "metadata": {},
     "output_type": "execute_result"
    }
   ],
   "source": [
    "sum(p.nelement() for p in parameters) # total num of parameters"
   ]
  },
  {
   "cell_type": "code",
   "execution_count": 96,
   "metadata": {},
   "outputs": [],
   "source": [
    "for p in parameters:\n",
    "    p.requires_grad = True"
   ]
  },
  {
   "cell_type": "code",
   "execution_count": 105,
   "metadata": {},
   "outputs": [],
   "source": [
    "epochs = 10000\n",
    "lre = torch.linspace(-3, 0, epochs)\n",
    "lrs = 10 ** lre\n",
    "lr = 0.01\n",
    "minibatch_size = 32"
   ]
  },
  {
   "cell_type": "code",
   "execution_count": 108,
   "metadata": {},
   "outputs": [
    {
     "name": "stdout",
     "output_type": "stream",
     "text": [
      "2.28059720993042\n"
     ]
    }
   ],
   "source": [
    "# lri = {}\n",
    "for i in range(epochs):\n",
    "    # construct minibatch\n",
    "    ix = torch.randint(0, X.shape[0], (minibatch_size, ))\n",
    "    \n",
    "    # forward pass\n",
    "    emb = C[X[ix]] # (minibatch_size, 3, 2)\n",
    "    h = torch.tanh(emb.view(-1, 6) @ w1 + b1) # (minibatch_size, 100)\n",
    "    logits = h @ w2 + b2 # (minibatch_size, 27)\n",
    "\n",
    "    # same as cross entropy\n",
    "    # counts = logits.exp()\n",
    "    # probs = counts / counts.sum(1, keepdim=True)\n",
    "    # loss = -probs[torch.arange(minibatch_size), Y].log().mean()\n",
    "    \n",
    "    loss = F.cross_entropy(logits, Y[ix])\n",
    "    # backward pass\n",
    "    for p in parameters:\n",
    "        p.grad = None\n",
    "    loss.backward()\n",
    "    # update\n",
    "    for p in parameters:\n",
    "        p.data += p.grad * -lr#-lrs[i]\n",
    "    # lri[lre[i]] = loss.item()\n",
    "print(loss.item())"
   ]
  },
  {
   "cell_type": "code",
   "execution_count": 99,
   "metadata": {},
   "outputs": [
    {
     "data": {
      "text/plain": [
       "[<matplotlib.lines.Line2D at 0x1d718634e50>]"
      ]
     },
     "execution_count": 99,
     "metadata": {},
     "output_type": "execute_result"
    },
    {
     "data": {
      "image/png": "[encoded data removed]",
      "text/plain": [
       "<Figure size 640x480 with 1 Axes>"
      ]
     },
     "metadata": {},
     "output_type": "display_data"
    }
   ],
   "source": [
    "# plt.plot(lri.keys(), lri.values())"
   ]
  },
  {
   "cell_type": "code",
   "execution_count": 72,
   "metadata": {},
   "outputs": [
    {
     "data": {
      "text/plain": [
       "2.6536853313446045"
      ]
     },
     "execution_count": 72,
     "metadata": {},
     "output_type": "execute_result"
    }
   ],
   "source": [
    "emb = C[X]\n",
    "h = torch.tanh(emb.view(-1, 6) @ w1 + b1)\n",
    "logits = h @ w2 + b2\n",
    "loss = F.cross_entropy(logits, Y)\n",
    "loss.item()"
   ]
  },
  {
   "cell_type": "code",
   "execution_count": null,
   "metadata": {},
   "outputs": [],
   "source": []
  }
 ],
 "metadata": {
  "kernelspec": {
   "display_name": "Python 3",
   "language": "python",
   "name": "python3"
  },
  "language_info": {
   "codemirror_mode": {
    "name": "ipython",
    "version": 3
   },
   "file_extension": ".py",
   "mimetype": "text/x-python",
   "name": "python",
   "nbconvert_exporter": "python",
   "pygments_lexer": "ipython3",
   "version": "3.11.0"
  }
 },
 "nbformat": 4,
 "nbformat_minor": 2
}
